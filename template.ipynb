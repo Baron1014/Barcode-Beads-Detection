{
 "cells": [
  {
   "cell_type": "code",
   "execution_count": 42,
   "id": "fe9a50e7-0a76-4720-a607-e7cf66224fd6",
   "metadata": {
    "execution": {
     "iopub.execute_input": "2021-10-20T09:45:11.539328Z",
     "iopub.status.busy": "2021-10-20T09:45:11.539328Z",
     "iopub.status.idle": "2021-10-20T09:45:11.559326Z",
     "shell.execute_reply": "2021-10-20T09:45:11.557331Z",
     "shell.execute_reply.started": "2021-10-20T09:45:11.539328Z"
    },
    "tags": []
   },
   "outputs": [],
   "source": [
    "import cv2\n",
    "import matplotlib.pyplot as plt"
   ]
  },
  {
   "cell_type": "code",
   "execution_count": 43,
   "id": "e7008dd2-90c7-4963-bea4-3afaa6372106",
   "metadata": {
    "execution": {
     "iopub.execute_input": "2021-10-20T09:45:11.985297Z",
     "iopub.status.busy": "2021-10-20T09:45:11.985297Z",
     "iopub.status.idle": "2021-10-20T09:45:11.994296Z",
     "shell.execute_reply": "2021-10-20T09:45:11.994296Z",
     "shell.execute_reply.started": "2021-10-20T09:45:11.985297Z"
    },
    "tags": []
   },
   "outputs": [],
   "source": [
    "def plot(fig, figname):\n",
    "    cv2.imwrite(f'./report/{figname}.jpg', fig)"
   ]
  },
  {
   "cell_type": "code",
   "execution_count": 44,
   "id": "0f1bbc73-a7a0-41d4-b0a1-ff7d8eaf33ff",
   "metadata": {
    "execution": {
     "iopub.execute_input": "2021-10-20T09:45:12.343404Z",
     "iopub.status.busy": "2021-10-20T09:45:12.343404Z",
     "iopub.status.idle": "2021-10-20T09:45:12.416828Z",
     "shell.execute_reply": "2021-10-20T09:45:12.416119Z",
     "shell.execute_reply.started": "2021-10-20T09:45:12.343404Z"
    },
    "tags": []
   },
   "outputs": [
    {
     "data": {
      "text/plain": [
       "(3648, 5472)"
      ]
     },
     "execution_count": 44,
     "metadata": {},
     "output_type": "execute_result"
    }
   ],
   "source": [
    "# 讀取圖檔\n",
    "img = cv2.imread('data/W_A2_0_3.jpg', cv2.IMREAD_GRAYSCALE)\n",
    "img.shape"
   ]
  },
  {
   "cell_type": "code",
   "execution_count": 45,
   "id": "82fedc5a-65ed-46a3-b4c7-f9f6deaad8b0",
   "metadata": {
    "execution": {
     "iopub.execute_input": "2021-10-20T09:45:14.316559Z",
     "iopub.status.busy": "2021-10-20T09:45:14.316559Z",
     "iopub.status.idle": "2021-10-20T09:45:21.989535Z",
     "shell.execute_reply": "2021-10-20T09:45:21.988520Z",
     "shell.execute_reply.started": "2021-10-20T09:45:14.316559Z"
    },
    "tags": []
   },
   "outputs": [],
   "source": [
    "# plt.figure(figsize=(20,8))\n",
    "cv2.imshow('origin', img)\n",
    "\n",
    "cv2.waitKey(0)\n",
    "cv2.destroyAllWindows()"
   ]
  },
  {
   "cell_type": "code",
   "execution_count": 46,
   "id": "1d67a75f-79da-4059-8e16-a03de39421f6",
   "metadata": {
    "execution": {
     "iopub.execute_input": "2021-10-20T09:45:33.369320Z",
     "iopub.status.busy": "2021-10-20T09:45:33.368319Z",
     "iopub.status.idle": "2021-10-20T09:45:33.523316Z",
     "shell.execute_reply": "2021-10-20T09:45:33.522327Z",
     "shell.execute_reply.started": "2021-10-20T09:45:33.369320Z"
    },
    "tags": []
   },
   "outputs": [
    {
     "data": {
      "text/plain": [
       "(3648, 5472)"
      ]
     },
     "execution_count": 46,
     "metadata": {},
     "output_type": "execute_result"
    }
   ],
   "source": [
    "blur = cv2.GaussianBlur(img,(5,5), 0)\n",
    "\n",
    "plot(blur, \"smoothing\")"
   ]
  },
  {
   "cell_type": "code",
   "execution_count": 58,
   "id": "fb2d8d89-d11e-4a63-be02-17e7f2147a7f",
   "metadata": {
    "execution": {
     "iopub.execute_input": "2021-10-20T10:07:05.273787Z",
     "iopub.status.busy": "2021-10-20T10:07:05.273787Z",
     "iopub.status.idle": "2021-10-20T10:07:05.382887Z",
     "shell.execute_reply": "2021-10-20T10:07:05.382887Z",
     "shell.execute_reply.started": "2021-10-20T10:07:05.273787Z"
    },
    "tags": []
   },
   "outputs": [],
   "source": [
    "thresh = cv2.adaptiveThreshold(img, 255, cv2.ADAPTIVE_THRESH_MEAN_C, cv2.THRESH_BINARY, 21, 10)\n",
    "plot(thresh, \"Mean Adaptive Thresholding\")"
   ]
  },
  {
   "cell_type": "code",
   "execution_count": 61,
   "id": "62885f38-adf1-4d14-a212-fecaa160787e",
   "metadata": {
    "execution": {
     "iopub.execute_input": "2021-10-20T10:10:54.227916Z",
     "iopub.status.busy": "2021-10-20T10:10:54.226916Z",
     "iopub.status.idle": "2021-10-20T10:10:54.537018Z",
     "shell.execute_reply": "2021-10-20T10:10:54.537018Z",
     "shell.execute_reply.started": "2021-10-20T10:10:54.227916Z"
    },
    "tags": []
   },
   "outputs": [],
   "source": [
    "# Thresholding \n",
    "thresh2 = cv2.adaptiveThreshold(blur, 255, cv2.ADAPTIVE_THRESH_GAUSSIAN_C, cv2.THRESH_BINARY, 11, 2)\n",
    "plot(thresh2, \"GAUSSIAN Adaptive Thresholding After Blur\")\n",
    "\n",
    "thresh2 = cv2.adaptiveThreshold(blur, 255, cv2.ADAPTIVE_THRESH_MEAN_C, cv2.THRESH_BINARY, 21, 10)\n",
    "plot(thresh2, \"Mean Adaptive Thresholding After Blur\")"
   ]
  },
  {
   "cell_type": "code",
   "execution_count": 65,
   "id": "0ce80c09-7be5-438c-8dcf-7b0a18566ca4",
   "metadata": {
    "execution": {
     "iopub.execute_input": "2021-10-20T10:19:39.757424Z",
     "iopub.status.busy": "2021-10-20T10:19:39.757424Z",
     "iopub.status.idle": "2021-10-20T10:19:39.869484Z",
     "shell.execute_reply": "2021-10-20T10:19:39.869484Z",
     "shell.execute_reply.started": "2021-10-20T10:19:39.757424Z"
    },
    "tags": []
   },
   "outputs": [],
   "source": [
    "# otsu\n",
    "_, otsu = cv2.threshold(img, 0, 255, cv2.THRESH_BINARY+cv2.THRESH_OTSU)\n",
    "plot(otsu, \"OTSU\")"
   ]
  },
  {
   "cell_type": "code",
   "execution_count": null,
   "id": "4f135d2d-94d5-47b8-a5a5-d1be6eb20eed",
   "metadata": {},
   "outputs": [],
   "source": []
  }
 ],
 "metadata": {
  "kernelspec": {
   "display_name": "Python 3 (ipykernel)",
   "language": "python",
   "name": "python3"
  },
  "language_info": {
   "codemirror_mode": {
    "name": "ipython",
    "version": 3
   },
   "file_extension": ".py",
   "mimetype": "text/x-python",
   "name": "python",
   "nbconvert_exporter": "python",
   "pygments_lexer": "ipython3",
   "version": "3.9.7"
  }
 },
 "nbformat": 4,
 "nbformat_minor": 5
}
